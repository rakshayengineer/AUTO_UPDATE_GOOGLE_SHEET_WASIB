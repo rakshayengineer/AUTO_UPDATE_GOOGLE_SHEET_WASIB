{
 "cells": [
  {
   "cell_type": "code",
   "execution_count": 1,
   "id": "b27d3ac8",
   "metadata": {},
   "outputs": [
    {
     "data": {
      "text/plain": [
       "{'spreadsheetId': '1wfsj2mr7c85H7whsD8v7NM0UVAlCMpdYvyyfsShXb-c',\n",
       " 'updatedRange': 'Sheet2!A1:AF1690',\n",
       " 'updatedRows': 1690,\n",
       " 'updatedColumns': 32,\n",
       " 'updatedCells': 54080}"
      ]
     },
     "execution_count": 1,
     "metadata": {},
     "output_type": "execute_result"
    }
   ],
   "source": [
    "import gspread\n",
    "import pandas as pd\n",
    "sa = gspread.service_account()\n",
    "sh = sa.open(\"IBG WASIB DASHBOARD\")\n",
    "# Get the working worksheet as wks\n",
    "wks = sh.worksheet(\"Sheet1\")\n",
    "# Get the target worksheet as tws\n",
    "tws = sh.worksheet(\"Sheet2\")\n",
    "# Get all values from the worksheet\n",
    "data = wks.get_all_values()\n",
    "# Convert data to a pandas DataFrame\n",
    "df = pd.DataFrame(data[1:], columns=data[0])\n",
    "df = df.drop(columns=df.columns[4],axis=1)\n",
    "# Convert the modified DataFrame back to a list of lists\n",
    "modified_data = [df.columns.tolist()] + df.values.tolist()\n",
    "# Clear the target worksheet before updating\n",
    "tws.clear()\n",
    "# Update the target worksheet with the modified data\n",
    "tws.update(modified_data)"
   ]
  },
  {
   "cell_type": "code",
   "execution_count": null,
   "id": "95861cf4",
   "metadata": {},
   "outputs": [],
   "source": []
  }
 ],
 "metadata": {
  "kernelspec": {
   "display_name": "Python 3 (ipykernel)",
   "language": "python",
   "name": "python3"
  },
  "language_info": {
   "codemirror_mode": {
    "name": "ipython",
    "version": 3
   },
   "file_extension": ".py",
   "mimetype": "text/x-python",
   "name": "python",
   "nbconvert_exporter": "python",
   "pygments_lexer": "ipython3",
   "version": "3.9.13"
  }
 },
 "nbformat": 4,
 "nbformat_minor": 5
}
